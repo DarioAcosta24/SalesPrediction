{
 "cells": [
  {
   "cell_type": "code",
   "execution_count": 1,
   "id": "1ce65ec8-85c5-40fb-8894-97ef9144461b",
   "metadata": {},
   "outputs": [],
   "source": [
    "import pandas as pd\n",
    "import numpy as np\n",
    "import copy\n",
    "import matplotlib.pyplot as plt\n",
    "import seaborn as sns"
   ]
  },
  {
   "cell_type": "markdown",
   "id": "09cbf11f-87dc-4e97-9232-0c83413b6e65",
   "metadata": {},
   "source": [
    "# Data cleaning"
   ]
  },
  {
   "cell_type": "code",
   "execution_count": 2,
   "id": "9e699938-7459-44e1-9171-e32a9d53ae11",
   "metadata": {},
   "outputs": [
    {
     "name": "stdout",
     "output_type": "stream",
     "text": [
      "<class 'pandas.core.frame.DataFrame'>\n",
      "RangeIndex: 30565 entries, 0 to 30564\n",
      "Data columns (total 28 columns):\n",
      " #   Column                    Non-Null Count  Dtype  \n",
      "---  ------                    --------------  -----  \n",
      " 0   Unnamed: 0                30565 non-null  int64  \n",
      " 1   index                     30565 non-null  int64  \n",
      " 2   date                      30565 non-null  object \n",
      " 3   Encoded Products          30565 non-null  object \n",
      " 4   Cadereyta total $         30565 non-null  float64\n",
      " 5   Cadereyta ctdad           30565 non-null  float64\n",
      " 6   Coahuila total $          30565 non-null  float64\n",
      " 7   Coahuila ctdad            30565 non-null  float64\n",
      " 8   Durango total $           30565 non-null  float64\n",
      " 9   Durango ctdad             30565 non-null  float64\n",
      " 10  Expos F total $           30565 non-null  float64\n",
      " 11  Expos F ctdad             30565 non-null  float64\n",
      " 12  Laredo total $            30565 non-null  float64\n",
      " 13  Laredo ctdad              30565 non-null  float64\n",
      " 14  Monterrey total $         30565 non-null  float64\n",
      " 15  Monterrey ctdad           30565 non-null  float64\n",
      " 16  Online total $            30565 non-null  float64\n",
      " 17  Online ctdad              30565 non-null  float64\n",
      " 18  Queretaro total $         30565 non-null  float64\n",
      " 19  Queretaro ctdad           30565 non-null  float64\n",
      " 20  Reynosa total $           30565 non-null  float64\n",
      " 21  Reynosa ctdad             30565 non-null  float64\n",
      " 22  San Luis total $          30565 non-null  float64\n",
      " 23  San Luis ctdad            30565 non-null  float64\n",
      " 24  Total libre de impuestos  30565 non-null  float64\n",
      " 25  Ctdad Ordenada            30565 non-null  float64\n",
      " 26  Indefinido total $        3750 non-null   float64\n",
      " 27  Indefinido ctdad          3750 non-null   float64\n",
      "dtypes: float64(24), int64(2), object(2)\n",
      "memory usage: 6.5+ MB\n"
     ]
    }
   ],
   "source": [
    "#Leemos el dataset de don colchon\n",
    "df_orig = pd.read_excel(\"encoded_db-1.xlsx\")\n",
    "df_working = copy.deepcopy(df_orig)\n",
    "df_working.info()"
   ]
  },
  {
   "cell_type": "code",
   "execution_count": 3,
   "id": "dfb10c1d-ec8b-4d50-8482-511ac6f6bfb2",
   "metadata": {},
   "outputs": [
    {
     "name": "stderr",
     "output_type": "stream",
     "text": [
      "C:\\Users\\dario\\AppData\\Local\\Temp\\ipykernel_13956\\2698282816.py:8: SettingWithCopyWarning: \n",
      "A value is trying to be set on a copy of a slice from a DataFrame.\n",
      "Try using .loc[row_indexer,col_indexer] = value instead\n",
      "\n",
      "See the caveats in the documentation: https://pandas.pydata.org/pandas-docs/stable/user_guide/indexing.html#returning-a-view-versus-a-copy\n",
      "  df['Lugar_Orden']=pd.Series([])\n"
     ]
    }
   ],
   "source": [
    "#Aqui se dejan solo las columnas con las que estaremos trabajando\n",
    "df=df_working[['Encoded Products', 'Cadereyta ctdad', 'Cadereyta total $', 'Coahuila ctdad',\n",
    "              'Coahuila total $', 'Durango ctdad', 'Durango total $', 'Expos F ctdad', 'Expos F total $',\n",
    "              'Laredo ctdad', 'Laredo total $', 'Monterrey ctdad', 'Monterrey total $', 'Online ctdad',\n",
    "              'Online total $', 'Queretaro ctdad', 'Queretaro total $', 'Reynosa ctdad', 'Reynosa total $',\n",
    "              'San Luis ctdad', 'San Luis total $', 'date']]\n",
    "#Creamos una nueva columna donde juntaremos todos los lugares\n",
    "df['Lugar_Orden']=pd.Series([])\n",
    "#Renombramos las columnas para un proceso mas ordenado y sencillo\n",
    "df=df.rename(columns={'Encoded Products': 'ID_Producto', 'date':'Fecha','Cadereyta total $':'Total libre de impuestos_Cadereyta',\n",
    "                   'Cadereyta ctdad':'Ctdad Ordenada_Cadereyta', 'Coahuila total $':'Total libre de impuestos_Coahuila',\n",
    "                   'Coahuila ctdad':'Ctdad Ordenada_Coahuila', 'Durango total $':'Total libre de impuestos_Durango',\n",
    "                   'Durango ctdad':'Ctdad Ordenada_Durango', 'Expos F total $':'Total libre de impuestos_Expos F',\n",
    "                   'Expos F ctdad':'Ctdad Ordenada_Expos F', 'Laredo total $':'Total libre de impuestos_Laredo',\n",
    "                   'Laredo ctdad':'Ctdad Ordenada_Laredo', 'Monterrey total $':'Total libre de impuestos_Monterrey',\n",
    "                   'Monterrey ctdad':'Ctdad Ordenada_Monterrey', 'Online total $':'Total libre de impuestos_Online',\n",
    "                   'Online ctdad':'Ctdad Ordenada_Online', 'Queretaro total $':'Total libre de impuestos_Queretaro',\n",
    "                   'Queretaro ctdad':'Ctdad Ordenada_Queretaro', 'Reynosa total $':'Total libre de impuestos_Reynosa',\n",
    "                   'Reynosa ctdad':'Ctdad Ordenada_Reynosa', 'San Luis total $':'Total libre de impuestos_San Luis',\n",
    "                   'San Luis ctdad':'Ctdad Ordenada_San Luis'})"
   ]
  },
  {
   "cell_type": "code",
   "execution_count": 4,
   "id": "04a49d8b-e683-4455-bf81-ff26ddee15eb",
   "metadata": {},
   "outputs": [],
   "source": [
    "#Se crea un df especifico por lugar, dnde se eliminan los datos con ventas 0\n",
    "df_vCadereyta=df.loc[df['Total libre de impuestos_Cadereyta'] != 0]\n",
    "df_vCadereyta=df_vCadereyta[['ID_Producto','Total libre de impuestos_Cadereyta', 'Ctdad Ordenada_Cadereyta', 'Fecha', 'Lugar_Orden']]\n",
    "df_vCadereyta=df_vCadereyta.fillna({'Lugar_Orden': 'Cadereyta'})\n",
    "df_vCadereyta=df_vCadereyta.rename(columns={'Total libre de impuestos_Cadereyta': 'Total libre de impuestos', 'Ctdad Ordenada_Cadereyta': 'Ctdad Ordenada'})"
   ]
  },
  {
   "cell_type": "code",
   "execution_count": 5,
   "id": "65ab2591-a652-45e3-9197-5a175236af1f",
   "metadata": {},
   "outputs": [],
   "source": [
    "df_vCoahuila=df.loc[df['Total libre de impuestos_Coahuila'] != 0]\n",
    "df_vCoahuila=df_vCoahuila[['ID_Producto','Total libre de impuestos_Coahuila', 'Ctdad Ordenada_Coahuila', 'Fecha', 'Lugar_Orden']]\n",
    "df_vCoahuila=df_vCoahuila.fillna({'Lugar_Orden': 'Coahuila'})\n",
    "df_vCoahuila=df_vCoahuila.rename(columns={'Total libre de impuestos_Coahuila': 'Total libre de impuestos', 'Ctdad Ordenada_Coahuila': 'Ctdad Ordenada'})"
   ]
  },
  {
   "cell_type": "code",
   "execution_count": 6,
   "id": "464cf54e-4b82-4db5-a192-a6920d7617c8",
   "metadata": {},
   "outputs": [],
   "source": [
    "df_vDurango=df.loc[df['Total libre de impuestos_Durango'] != 0]\n",
    "df_vDurango=df_vDurango[['ID_Producto','Total libre de impuestos_Durango', 'Ctdad Ordenada_Durango', 'Fecha', 'Lugar_Orden']]\n",
    "df_vDurango=df_vDurango.fillna({'Lugar_Orden': 'Durango'})\n",
    "df_vDurango=df_vDurango.rename(columns={'Total libre de impuestos_Durango': 'Total libre de impuestos', 'Ctdad Ordenada_Durango': 'Ctdad Ordenada'})"
   ]
  },
  {
   "cell_type": "code",
   "execution_count": 7,
   "id": "3fd30e53-c282-4f19-84e2-c625f6a8fcc9",
   "metadata": {},
   "outputs": [],
   "source": [
    "df_vExposF=df.loc[df['Total libre de impuestos_Expos F'] != 0]\n",
    "df_vExposF=df_vExposF[['ID_Producto','Total libre de impuestos_Expos F', 'Ctdad Ordenada_Expos F', 'Fecha', 'Lugar_Orden']]\n",
    "df_vExposF=df_vExposF.fillna({'Lugar_Orden': 'Expos F'})\n",
    "df_vExposF=df_vExposF.rename(columns={'Total libre de impuestos_Expos F': 'Total libre de impuestos', 'Ctdad Ordenada_Expos F': 'Ctdad Ordenada'})"
   ]
  },
  {
   "cell_type": "code",
   "execution_count": 8,
   "id": "a314397d-edde-4ab8-bc51-e4d818fda512",
   "metadata": {},
   "outputs": [],
   "source": [
    "df_vLaredo=df.loc[df['Total libre de impuestos_Laredo'] != 0]\n",
    "df_vLaredo=df_vLaredo[['ID_Producto','Total libre de impuestos_Laredo', 'Ctdad Ordenada_Laredo', 'Fecha', 'Lugar_Orden']]\n",
    "df_vLaredo=df_vLaredo.fillna({'Lugar_Orden': 'Laredo'})\n",
    "df_vLaredo=df_vLaredo.rename(columns={'Total libre de impuestos_Laredo': 'Total libre de impuestos', 'Ctdad Ordenada_Laredo': 'Ctdad Ordenada'})"
   ]
  },
  {
   "cell_type": "code",
   "execution_count": 9,
   "id": "33c791e2-d1f3-4d7a-a1b0-067b8d3edfd3",
   "metadata": {},
   "outputs": [],
   "source": [
    "df_vMonterrey=df.loc[df['Total libre de impuestos_Monterrey'] != 0]\n",
    "df_vMonterrey=df_vMonterrey[['ID_Producto','Total libre de impuestos_Monterrey', 'Ctdad Ordenada_Monterrey', 'Fecha', 'Lugar_Orden']]\n",
    "df_vMonterrey=df_vMonterrey.fillna({'Lugar_Orden': 'Monterrey'})\n",
    "df_vMonterrey=df_vMonterrey.rename(columns={'Total libre de impuestos_Monterrey': 'Total libre de impuestos', 'Ctdad Ordenada_Monterrey': 'Ctdad Ordenada'})"
   ]
  },
  {
   "cell_type": "code",
   "execution_count": 10,
   "id": "1802dc23-5d75-473e-a403-aa183f665dae",
   "metadata": {},
   "outputs": [],
   "source": [
    "df_vOnline=df.loc[df['Total libre de impuestos_Online'] != 0]\n",
    "df_vOnline=df_vOnline[['ID_Producto','Total libre de impuestos_Online', 'Ctdad Ordenada_Online', 'Fecha', 'Lugar_Orden']]\n",
    "df_vOnline=df_vOnline.fillna({'Lugar_Orden': 'Online'})\n",
    "df_vOnline=df_vOnline.rename(columns={'Total libre de impuestos_Online': 'Total libre de impuestos', 'Ctdad Ordenada_Online': 'Ctdad Ordenada'})"
   ]
  },
  {
   "cell_type": "code",
   "execution_count": 11,
   "id": "198160dd-d083-4833-b4ec-b3afc0efda12",
   "metadata": {},
   "outputs": [],
   "source": [
    "df_vQueretaro=df.loc[df['Total libre de impuestos_Queretaro'] != 0]\n",
    "df_vQueretaro=df_vQueretaro[['ID_Producto','Total libre de impuestos_Queretaro', 'Ctdad Ordenada_Queretaro', 'Fecha', 'Lugar_Orden']]\n",
    "df_vQueretaro=df_vQueretaro.fillna({'Lugar_Orden': 'Queretaro'})\n",
    "df_vQueretaro=df_vQueretaro.rename(columns={'Total libre de impuestos_Queretaro': 'Total libre de impuestos', 'Ctdad Ordenada_Queretaro': 'Ctdad Ordenada'})"
   ]
  },
  {
   "cell_type": "code",
   "execution_count": 12,
   "id": "1c28a605-2ed3-419a-9008-98f63fc39240",
   "metadata": {},
   "outputs": [],
   "source": [
    "df_vReynosa=df.loc[df['Total libre de impuestos_Reynosa'] != 0]\n",
    "df_vReynosa=df_vReynosa[['ID_Producto','Total libre de impuestos_Reynosa', 'Ctdad Ordenada_Reynosa', 'Fecha', 'Lugar_Orden']]\n",
    "df_vReynosa=df_vReynosa.fillna({'Lugar_Orden': 'Reynosa'})\n",
    "df_vReynosa=df_vReynosa.rename(columns={'Total libre de impuestos_Reynosa': 'Total libre de impuestos', 'Ctdad Ordenada_Reynosa': 'Ctdad Ordenada'})"
   ]
  },
  {
   "cell_type": "code",
   "execution_count": 13,
   "id": "546c9e33-59f7-45b0-a560-5c738d3459ac",
   "metadata": {},
   "outputs": [],
   "source": [
    "df_vSanLuis=df.loc[df['Total libre de impuestos_San Luis'] != 0]\n",
    "df_vSanLuis=df_vSanLuis[['ID_Producto','Total libre de impuestos_San Luis', 'Ctdad Ordenada_San Luis', 'Fecha', 'Lugar_Orden']]\n",
    "df_vSanLuis=df_vSanLuis.fillna({'Lugar_Orden': 'San Luis'})\n",
    "df_vSanLuis=df_vSanLuis.rename(columns={'Total libre de impuestos_San Luis': 'Total libre de impuestos', 'Ctdad Ordenada_San Luis': 'Ctdad Ordenada'})"
   ]
  },
  {
   "cell_type": "code",
   "execution_count": 14,
   "id": "038f82fb-a601-4c32-8828-745f509ab02c",
   "metadata": {},
   "outputs": [
    {
     "data": {
      "text/html": [
       "<div>\n",
       "<style scoped>\n",
       "    .dataframe tbody tr th:only-of-type {\n",
       "        vertical-align: middle;\n",
       "    }\n",
       "\n",
       "    .dataframe tbody tr th {\n",
       "        vertical-align: top;\n",
       "    }\n",
       "\n",
       "    .dataframe thead th {\n",
       "        text-align: right;\n",
       "    }\n",
       "</style>\n",
       "<table border=\"1\" class=\"dataframe\">\n",
       "  <thead>\n",
       "    <tr style=\"text-align: right;\">\n",
       "      <th></th>\n",
       "      <th>ID_Producto</th>\n",
       "      <th>Total libre de impuestos</th>\n",
       "      <th>Ctdad Ordenada</th>\n",
       "      <th>Fecha</th>\n",
       "      <th>Lugar_Orden</th>\n",
       "    </tr>\n",
       "  </thead>\n",
       "  <tbody>\n",
       "    <tr>\n",
       "      <th>44</th>\n",
       "      <td>Producto 13</td>\n",
       "      <td>16595.845</td>\n",
       "      <td>3.5</td>\n",
       "      <td>03 ene 2022</td>\n",
       "      <td>Cadereyta</td>\n",
       "    </tr>\n",
       "    <tr>\n",
       "      <th>87</th>\n",
       "      <td>Producto 30</td>\n",
       "      <td>21847.840</td>\n",
       "      <td>3.5</td>\n",
       "      <td>04 ene 2022</td>\n",
       "      <td>Cadereyta</td>\n",
       "    </tr>\n",
       "    <tr>\n",
       "      <th>124</th>\n",
       "      <td>Producto 18</td>\n",
       "      <td>37083.060</td>\n",
       "      <td>3.5</td>\n",
       "      <td>05 ene 2022</td>\n",
       "      <td>Cadereyta</td>\n",
       "    </tr>\n",
       "    <tr>\n",
       "      <th>193</th>\n",
       "      <td>Producto 5</td>\n",
       "      <td>10559.570</td>\n",
       "      <td>3.5</td>\n",
       "      <td>07 ene 2022</td>\n",
       "      <td>Cadereyta</td>\n",
       "    </tr>\n",
       "    <tr>\n",
       "      <th>229</th>\n",
       "      <td>Producto 5</td>\n",
       "      <td>10409.770</td>\n",
       "      <td>3.5</td>\n",
       "      <td>08 ene 2022</td>\n",
       "      <td>Cadereyta</td>\n",
       "    </tr>\n",
       "    <tr>\n",
       "      <th>...</th>\n",
       "      <td>...</td>\n",
       "      <td>...</td>\n",
       "      <td>...</td>\n",
       "      <td>...</td>\n",
       "      <td>...</td>\n",
       "    </tr>\n",
       "    <tr>\n",
       "      <th>30534</th>\n",
       "      <td>Producto 273</td>\n",
       "      <td>31258.185</td>\n",
       "      <td>3.5</td>\n",
       "      <td>31 dic 2023</td>\n",
       "      <td>San Luis</td>\n",
       "    </tr>\n",
       "    <tr>\n",
       "      <th>30538</th>\n",
       "      <td>Producto 273</td>\n",
       "      <td>42490.770</td>\n",
       "      <td>7.0</td>\n",
       "      <td>31 dic 2023</td>\n",
       "      <td>San Luis</td>\n",
       "    </tr>\n",
       "    <tr>\n",
       "      <th>30540</th>\n",
       "      <td>Producto 1</td>\n",
       "      <td>5126.135</td>\n",
       "      <td>3.5</td>\n",
       "      <td>31 dic 2023</td>\n",
       "      <td>San Luis</td>\n",
       "    </tr>\n",
       "    <tr>\n",
       "      <th>30543</th>\n",
       "      <td>Producto 5</td>\n",
       "      <td>9501.450</td>\n",
       "      <td>3.5</td>\n",
       "      <td>31 dic 2023</td>\n",
       "      <td>San Luis</td>\n",
       "    </tr>\n",
       "    <tr>\n",
       "      <th>30544</th>\n",
       "      <td>Producto 273</td>\n",
       "      <td>12139.225</td>\n",
       "      <td>3.5</td>\n",
       "      <td>31 dic 2023</td>\n",
       "      <td>San Luis</td>\n",
       "    </tr>\n",
       "  </tbody>\n",
       "</table>\n",
       "<p>46849 rows × 5 columns</p>\n",
       "</div>"
      ],
      "text/plain": [
       "        ID_Producto  Total libre de impuestos  Ctdad Ordenada  \\\n",
       "44      Producto 13                 16595.845             3.5   \n",
       "87      Producto 30                 21847.840             3.5   \n",
       "124     Producto 18                 37083.060             3.5   \n",
       "193      Producto 5                 10559.570             3.5   \n",
       "229      Producto 5                 10409.770             3.5   \n",
       "...             ...                       ...             ...   \n",
       "30534  Producto 273                 31258.185             3.5   \n",
       "30538  Producto 273                 42490.770             7.0   \n",
       "30540    Producto 1                  5126.135             3.5   \n",
       "30543    Producto 5                  9501.450             3.5   \n",
       "30544  Producto 273                 12139.225             3.5   \n",
       "\n",
       "                  Fecha Lugar_Orden  \n",
       "44          03 ene 2022   Cadereyta  \n",
       "87          04 ene 2022   Cadereyta  \n",
       "124         05 ene 2022   Cadereyta  \n",
       "193         07 ene 2022   Cadereyta  \n",
       "229         08 ene 2022   Cadereyta  \n",
       "...                 ...         ...  \n",
       "30534       31 dic 2023    San Luis  \n",
       "30538       31 dic 2023    San Luis  \n",
       "30540       31 dic 2023    San Luis  \n",
       "30543       31 dic 2023    San Luis  \n",
       "30544       31 dic 2023    San Luis  \n",
       "\n",
       "[46849 rows x 5 columns]"
      ]
     },
     "execution_count": 14,
     "metadata": {},
     "output_type": "execute_result"
    }
   ],
   "source": [
    "#Aqui se juntan los df de los distintos lugares en uno solo, dejando un df dacil de manejar, con los productos, el total libre de impuestos, \n",
    "    #la cantidad ordenada por producto, la fecha y el todos los lugares en la misma columna, eliminando asi muchas celdas vacias\n",
    "dataDC = pd.concat([df_vCadereyta,df_vCoahuila, df_vDurango, df_vExposF, df_vLaredo, df_vMonterrey, df_vOnline, df_vQueretaro, df_vReynosa, df_vSanLuis])\n",
    "dataDC"
   ]
  },
  {
   "cell_type": "code",
   "execution_count": 15,
   "id": "582ac95c-4945-4e5b-a383-75784598bbe1",
   "metadata": {},
   "outputs": [],
   "source": [
    "dataDC = dataDC.sort_index(ascending=True) #en orden de fecha, como estaban en un inicio\n",
    "dataDC=dataDC.rename(columns={'Total libre de impuestos':'Total', 'Ctdad Ordenada':'Cantidad', 'Lugar_Orden':'Region'})\n",
    "dataDC=dataDC[['ID_Producto','Cantidad', 'Total', 'Region', 'Fecha']] #cambio de columnas para mejor organización"
   ]
  },
  {
   "cell_type": "code",
   "execution_count": 16,
   "id": "a65e12a4-de10-4146-8b86-d86b2312c570",
   "metadata": {},
   "outputs": [
    {
     "name": "stdout",
     "output_type": "stream",
     "text": [
      "<class 'pandas.core.frame.DataFrame'>\n",
      "Index: 46849 entries, 0 to 30564\n",
      "Data columns (total 5 columns):\n",
      " #   Column       Non-Null Count  Dtype  \n",
      "---  ------       --------------  -----  \n",
      " 0   ID_Producto  46849 non-null  object \n",
      " 1   Cantidad     46849 non-null  float64\n",
      " 2   Total        46849 non-null  float64\n",
      " 3   Region       46849 non-null  object \n",
      " 4   Fecha        46849 non-null  object \n",
      "dtypes: float64(2), object(3)\n",
      "memory usage: 2.1+ MB\n"
     ]
    }
   ],
   "source": [
    "dataDC.info()"
   ]
  },
  {
   "cell_type": "code",
   "execution_count": 17,
   "id": "0d075a55-f5e0-496f-8a9e-5f8d72c76c4d",
   "metadata": {},
   "outputs": [],
   "source": [
    "#Pasamos el dataset ya trabajado a cvs y lo exportamos\n",
    "dataDC.to_csv(\"dataDC_nueva.csv\", index=False)\n",
    "data_DC=pd.read_csv('dataDC_nueva.csv')"
   ]
  },
  {
   "cell_type": "code",
   "execution_count": 18,
   "id": "988a5b55-99cf-4f3e-bdd7-82ee69f58fdf",
   "metadata": {},
   "outputs": [
    {
     "data": {
      "text/html": [
       "<div>\n",
       "<style scoped>\n",
       "    .dataframe tbody tr th:only-of-type {\n",
       "        vertical-align: middle;\n",
       "    }\n",
       "\n",
       "    .dataframe tbody tr th {\n",
       "        vertical-align: top;\n",
       "    }\n",
       "\n",
       "    .dataframe thead th {\n",
       "        text-align: right;\n",
       "    }\n",
       "</style>\n",
       "<table border=\"1\" class=\"dataframe\">\n",
       "  <thead>\n",
       "    <tr style=\"text-align: right;\">\n",
       "      <th></th>\n",
       "      <th>ID_Producto</th>\n",
       "      <th>Cantidad</th>\n",
       "      <th>Total</th>\n",
       "      <th>Region</th>\n",
       "      <th>Fecha</th>\n",
       "    </tr>\n",
       "  </thead>\n",
       "  <tbody>\n",
       "    <tr>\n",
       "      <th>0</th>\n",
       "      <td>Producto 11</td>\n",
       "      <td>3.5</td>\n",
       "      <td>18162.13</td>\n",
       "      <td>San Luis</td>\n",
       "      <td>2022-01-02</td>\n",
       "    </tr>\n",
       "    <tr>\n",
       "      <th>1</th>\n",
       "      <td>Producto 11</td>\n",
       "      <td>7.0</td>\n",
       "      <td>40461.47</td>\n",
       "      <td>Monterrey</td>\n",
       "      <td>2022-01-02</td>\n",
       "    </tr>\n",
       "    <tr>\n",
       "      <th>2</th>\n",
       "      <td>Producto 6</td>\n",
       "      <td>3.5</td>\n",
       "      <td>23477.44</td>\n",
       "      <td>Queretaro</td>\n",
       "      <td>2022-01-02</td>\n",
       "    </tr>\n",
       "    <tr>\n",
       "      <th>3</th>\n",
       "      <td>Producto 24</td>\n",
       "      <td>3.5</td>\n",
       "      <td>31083.50</td>\n",
       "      <td>Monterrey</td>\n",
       "      <td>2022-01-02</td>\n",
       "    </tr>\n",
       "    <tr>\n",
       "      <th>4</th>\n",
       "      <td>Producto 15</td>\n",
       "      <td>7.0</td>\n",
       "      <td>42846.02</td>\n",
       "      <td>Monterrey</td>\n",
       "      <td>2022-01-02</td>\n",
       "    </tr>\n",
       "  </tbody>\n",
       "</table>\n",
       "</div>"
      ],
      "text/plain": [
       "   ID_Producto  Cantidad     Total     Region      Fecha\n",
       "0  Producto 11       3.5  18162.13   San Luis 2022-01-02\n",
       "1  Producto 11       7.0  40461.47  Monterrey 2022-01-02\n",
       "2   Producto 6       3.5  23477.44  Queretaro 2022-01-02\n",
       "3  Producto 24       3.5  31083.50  Monterrey 2022-01-02\n",
       "4  Producto 15       7.0  42846.02  Monterrey 2022-01-02"
      ]
     },
     "execution_count": 18,
     "metadata": {},
     "output_type": "execute_result"
    }
   ],
   "source": [
    "df=data_DC\n",
    "df['Fecha'] = df['Fecha'].str.strip()\n",
    "df['Fecha'] = df['Fecha'].str.replace('ene', 'Jan').str.replace('feb', 'Feb').str.replace('mar', 'Mar') \\\n",
    "    .str.replace('abr', 'Apr').str.replace('may', 'May').str.replace('jun', 'Jun').str.replace('jul', 'Jul') \\\n",
    "    .str.replace('ago', 'Aug').str.replace('sep', 'Sep').str.replace('oct', 'Oct').str.replace('nov', 'Nov') \\\n",
    "    .str.replace('dic','Dec') #MSe cambian las fechas a un formato donde se pueda aplicar el datetime\n",
    "df['Fecha'] = pd.to_datetime(df['Fecha'], format='%d %b %Y') #Se pasa la fecha a datetime a formato año, mes y día.\n",
    "df.head()"
   ]
  },
  {
   "cell_type": "code",
   "execution_count": 21,
   "id": "b6301cfd-ebff-4eae-8c08-ba9f977e114a",
   "metadata": {},
   "outputs": [
    {
     "data": {
      "text/plain": [
       "ID_Producto\n",
       "Producto 273    19134\n",
       "Producto 0       2221\n",
       "Producto 5       1636\n",
       "Producto 1       1546\n",
       "Producto 8       1243\n",
       "Producto 21       829\n",
       "Producto 12       807\n",
       "Producto 186      596\n",
       "Producto 2        553\n",
       "Producto 33       542\n",
       "Producto 9        538\n",
       "Producto 20       529\n",
       "Producto 22       522\n",
       "Producto 16       494\n",
       "Producto 4        487\n",
       "Producto 3        452\n",
       "Producto 245      440\n",
       "Producto 38       404\n",
       "Producto 10       378\n",
       "Producto 17       364\n",
       "Producto 7        350\n",
       "Producto 134      348\n",
       "Producto 122      338\n",
       "Producto 59       337\n",
       "Producto 31       326\n",
       "Producto 40       310\n",
       "Producto 54       305\n",
       "Producto 248      285\n",
       "Producto 37       283\n",
       "Producto 6        277\n",
       "Producto 34       272\n",
       "Producto 46       260\n",
       "Producto 47       256\n",
       "Producto 13       254\n",
       "Producto 15       239\n",
       "Producto 148      221\n",
       "Producto 19       217\n",
       "Producto 53       216\n",
       "Producto 45       204\n",
       "Producto 131      197\n",
       "Name: count, dtype: int64"
      ]
     },
     "execution_count": 21,
     "metadata": {},
     "output_type": "execute_result"
    }
   ],
   "source": [
    "NumProd = df['ID_Producto'].value_counts()\n",
    "NumProd.head(40)  #Aqui se visualizan los productos con mas ventas dentro de nuestro dataset\n",
    "#NumProd.tail(40)"
   ]
  },
  {
   "cell_type": "markdown",
   "id": "4d8db429-0e8f-4c94-93b1-61fed0ad53e2",
   "metadata": {},
   "source": [
    "# Modelos de regresión"
   ]
  },
  {
   "cell_type": "code",
   "execution_count": 20,
   "id": "a613f353-7004-490f-bd11-ee3b4a6610b8",
   "metadata": {},
   "outputs": [],
   "source": [
    "from sklearn.preprocessing import LabelEncoder\n",
    "from sklearn.ensemble import RandomForestRegressor\n",
    "from sklearn.model_selection import train_test_split\n",
    "from sklearn.metrics import mean_squared_error\n",
    "from sklearn.metrics import mean_absolute_error\n",
    "label_encoder = LabelEncoder() #Inicializamos el label encoder\n",
    "df = pd.get_dummies(df, columns=['Region']) #Aplicamos un dummies para darle valor a cada una de las regiones"
   ]
  },
  {
   "cell_type": "markdown",
   "id": "a64bcba6-963e-46f5-a978-9fb290575d33",
   "metadata": {},
   "source": [
    "### Random Forest Regressor para 1 solo producto"
   ]
  },
  {
   "cell_type": "code",
   "execution_count": 22,
   "id": "594fb163-1a17-47c8-b164-a18ba0905650",
   "metadata": {},
   "outputs": [
    {
     "name": "stdout",
     "output_type": "stream",
     "text": [
      "Num de datos:  92\n",
      "Con ventas de producto:  92\n",
      "Sin ventas de producto:  0\n"
     ]
    }
   ],
   "source": [
    "df_filtrado=df.loc[df['ID_Producto'] == 'Producto 273']\n",
    "df_filtrado.set_index('Fecha', inplace=True)\n",
    "# Realizar el resample y sumar los valores por semana\n",
    "df_final = df_filtrado.resample('W').sum()\n",
    "# Agregar una nueva columna 'Fecha' que contenga el índice con las fechas agrupadas\n",
    "df_final['Fecha'] = df_final.index\n",
    "# Restaurar la columna de fechas agrupadas al índice numérico predeterminado\n",
    "df_final.reset_index(drop=True, inplace=True)\n",
    "\n",
    "#Creando 2 columnas con las fechas del buen fin y hot sale 2022,2023\n",
    "buen_fin_inicio2023 = '2023-11-17'\n",
    "buen_fin_fin2023 = '2023-11-20'\n",
    "buen_fin_inicio2022 = '2022-11-18'\n",
    "buen_fin_fin2022 = '2022-11-21'\n",
    "hot_sale_inicio2022 = '2022-05-23'\n",
    "hot_sale_fin2022 = '2022-05-31'\n",
    "hot_sale_inicio2023 = '2023-05-29'\n",
    "hot_sale_fin2023 = '2023-06-06'\n",
    "# Crea la columna 'marca' con valores 1 en las fechas correspondientes al Buen Fin y 0 en el resto\n",
    "df_final['Buen_Fin'] = (((df_final['Fecha'] >= buen_fin_inicio2022) & (df_final['Fecha'] <= buen_fin_fin2022)) | \n",
    "                        ((df_final['Fecha'] >= buen_fin_inicio2023) & (df_final['Fecha'] <= buen_fin_fin2023))).astype(int)\n",
    "df_final['Hot_Sale'] = (((df_final['Fecha'] >= hot_sale_inicio2022) & (df_final['Fecha'] <= hot_sale_fin2022)) | \n",
    "                        ((df_final['Fecha'] >= hot_sale_inicio2023) & (df_final['Fecha'] <= hot_sale_fin2023))).astype(int)\n",
    "#Se le aplica el label encoder a la fecha para poder tomarse en cuenta en la regresión\n",
    "df_final['Fecha_encoded'] = label_encoder.fit_transform(df_final['Fecha'])\n",
    "print('Num de datos: ',df_final['Cantidad'].count())\n",
    "print('Con ventas de producto: ', df_final['Cantidad'].count()-(df_final['Cantidad'] == 0).sum())\n",
    "print('Sin ventas de producto: ', (df_final['Cantidad'] == 0).sum())"
   ]
  },
  {
   "cell_type": "code",
   "execution_count": 390,
   "id": "5b9447e3-3c2f-443c-b7da-6904e8fffe72",
   "metadata": {},
   "outputs": [
    {
     "name": "stdout",
     "output_type": "stream",
     "text": [
      "Mean Squared Error: 0.44083333333333324\n",
      "Mean Absolute Error: 0.19166666666666665\n",
      "Mean Absolute Percentage Error (MAPE): 4.26%\n",
      "\n",
      "\n",
      "    Real  Predicted values\n",
      "0    4.5               2.2\n",
      "5    1.0               1.0\n",
      "34   1.0               1.0\n",
      "13   1.0               1.0\n",
      "44   1.0               1.0\n",
      "52   1.0               1.0\n",
      "37   1.0               1.0\n",
      "25   1.0               1.0\n",
      "46   1.0               1.0\n",
      "12   1.0               1.0\n",
      "48   1.0               1.0\n",
      "3    1.0               1.0\n"
     ]
    }
   ],
   "source": [
    "#Para la división de datos, se toman como variable de entrada las regiones, la fecha y el buen fin, hot sale\n",
    "X = df_final[['Region_Cadereyta', 'Region_Coahuila', 'Region_Durango',\n",
    "       'Region_Expos F', 'Region_Laredo', 'Region_Monterrey', 'Region_Online',\n",
    "       'Region_Queretaro', 'Region_Reynosa', 'Region_San Luis','Fecha_encoded','Buen_Fin','Hot_Sale']]\n",
    "y = df_final['Cantidad']\n",
    "X_train, X_test, y_train, y_test = train_test_split(X, y, test_size=0.2, random_state=42)\n",
    "#Se aplica el random forest regressor con hipreparamteros anteriormente calculados anteriormente con ayuda del grid search\n",
    "rf_regressor = RandomForestRegressor(n_estimators=35, random_state=42, max_depth=10, criterion='squared_error',\n",
    "                                        max_features=None, bootstrap=True, min_samples_split=2, min_samples_leaf=1)\n",
    "#Entrenamiento del modelo y prediccion\n",
    "rf_regressor.fit(X_train, y_train)\n",
    "y_pred = rf_regressor.predict(X_test)\n",
    "#Calculo del mse en base a la prediccion y el test\n",
    "mse = mean_squared_error(y_test, y_pred)\n",
    "print(f\"Mean Squared Error: {mse}\")\n",
    "#Calculo del mae en base a la prediccion y el test\n",
    "mae = mean_absolute_error(y_test, y_pred)\n",
    "print(f\"Mean Absolute Error: {mae}\")\n",
    "#Se escalan para evitar problemas con los datos de 0 ventas y se calcula el mape\n",
    "y_test=y_test+1\n",
    "y_pred=y_pred+1\n",
    "mape = np.mean(np.abs(((y_test) - y_pred) / (y_test))) * 100\n",
    "print(f\"Mean Absolute Percentage Error (MAPE): {mape:.2f}%\")\n",
    "#Comparacion de valores reales y de prediccion\n",
    "print('\\n')\n",
    "results = pd.DataFrame({\"Real\": y_test, \"Predicted values\": y_pred})\n",
    "print(results)"
   ]
  },
  {
   "cell_type": "code",
   "execution_count": 391,
   "id": "a90469f1-ffc3-41b5-92d3-6eefbdada398",
   "metadata": {},
   "outputs": [
    {
     "name": "stderr",
     "output_type": "stream",
     "text": [
      "C:\\Users\\dario\\anaconda3\\Lib\\site-packages\\seaborn\\_oldcore.py:1119: FutureWarning: use_inf_as_na option is deprecated and will be removed in a future version. Convert inf values to NaN before operating instead.\n",
      "  with pd.option_context('mode.use_inf_as_na', True):\n",
      "C:\\Users\\dario\\anaconda3\\Lib\\site-packages\\seaborn\\_oldcore.py:1119: FutureWarning: use_inf_as_na option is deprecated and will be removed in a future version. Convert inf values to NaN before operating instead.\n",
      "  with pd.option_context('mode.use_inf_as_na', True):\n"
     ]
    },
    {
     "data": {
      "image/png": "[encoded data removed]",
      "text/plain": [
       "<Figure size 1000x500 with 1 Axes>"
      ]
     },
     "metadata": {},
     "output_type": "display_data"
    }
   ],
   "source": [
    "#Grafica para visualizar los datos reales y predecidos\n",
    "sns.set(style=\"darkgrid\")\n",
    "plt.figure(figsize=(10, 5))\n",
    "sns.lineplot(data=results, palette=\"magma\", linewidth=2.5)\n",
    "plt.legend(title=\"Values\", loc=\"upper left\", labels=[\"Real\", \"Predicted\"])\n",
    "plt.title(\"Real vs Predicted Values\")\n",
    "plt.xlabel(\"Index\")\n",
    "plt.ylabel(\"Value\")\n",
    "plt.show()"
   ]
  },
  {
   "cell_type": "code",
   "execution_count": 381,
   "id": "8a8da423-f07a-4195-98ff-a532fd282430",
   "metadata": {},
   "outputs": [
    {
     "name": "stderr",
     "output_type": "stream",
     "text": [
      "C:\\Users\\dario\\AppData\\Local\\Temp\\ipykernel_21540\\681771986.py:5: UserWarning: Ignoring `palette` because no `hue` variable has been assigned.\n",
      "  sns.histplot(residuos, kde=True, palette=\"magma\", alpha=0.7)\n",
      "C:\\Users\\dario\\anaconda3\\Lib\\site-packages\\seaborn\\_oldcore.py:1119: FutureWarning: use_inf_as_na option is deprecated and will be removed in a future version. Convert inf values to NaN before operating instead.\n",
      "  with pd.option_context('mode.use_inf_as_na', True):\n"
     ]
    },
    {
     "data": {
      "image/png": "[encoded data removed]",
      "text/plain": [
       "<Figure size 800x600 with 1 Axes>"
      ]
     },
     "metadata": {},
     "output_type": "display_data"
    }
   ],
   "source": [
    "residuos = y_test - y_pred\n",
    "\n",
    "# Histograma de los residuos\n",
    "plt.figure(figsize=(8, 6))\n",
    "sns.histplot(residuos, kde=True, palette=\"magma\", alpha=0.7)\n",
    "plt.title('Histograma de Residuos')\n",
    "plt.xlabel('Residuos')\n",
    "plt.ylabel('Frecuencia')\n",
    "plt.grid(True)\n",
    "plt.show()"
   ]
  },
  {
   "cell_type": "markdown",
   "id": "64fa0ec2-e9fe-4f17-95c1-0c9bfabf815a",
   "metadata": {},
   "source": [
    "### Random Forest Reggresor total"
   ]
  },
  {
   "cell_type": "code",
   "execution_count": 149,
   "id": "af94c6d6-737d-49a8-87be-1db6ef89a47d",
   "metadata": {},
   "outputs": [
    {
     "name": "stdout",
     "output_type": "stream",
     "text": [
      "MSE promedio: 83.11\n",
      "MAE promedio: 2.45\n",
      "MAPE promedio: 18.97%\n"
     ]
    }
   ],
   "source": [
    "#El mismo proceso realizado para 1 producto, se hace un for para todos los prodcutos\n",
    "def calculate_average_errors(df, productos, label_encoder):\n",
    "    mae_list = []\n",
    "    mse_list = []\n",
    "    mape_list = []\n",
    "\n",
    "    for producto in productos:\n",
    "        df_filtrado = df.loc[df['ID_Producto'] == producto]\n",
    "        df_filtrado.set_index('Fecha', inplace=True)\n",
    "        df_final = df_filtrado.resample('W').sum()\n",
    "        df_final['Fecha'] = df_final.index\n",
    "        df_final.reset_index(drop=True, inplace=True)\n",
    "        df_final['Fecha_encoded'] = label_encoder.fit_transform(df_final['Fecha'])\n",
    "        df_final['Buen_Fin'] = (((df_final['Fecha'] >= buen_fin_inicio2022) & (df_final['Fecha'] <= buen_fin_fin2022)) | \n",
    "                            ((df_final['Fecha'] >= buen_fin_inicio2023) & (df_final['Fecha'] <= buen_fin_fin2023))).astype(int)\n",
    "        df_final['Hot_Sale'] = (((df_final['Fecha'] >= hot_sale_inicio2022) & (df_final['Fecha'] <= hot_sale_fin2022)) | \n",
    "                            ((df_final['Fecha'] >= hot_sale_inicio2023) & (df_final['Fecha'] <= hot_sale_fin2023))).astype(int)\n",
    "        df_final['Fecha'] = label_encoder.fit_transform(df_final['Fecha'])\n",
    "        \n",
    "        X = df_final[['Region_Cadereyta', 'Region_Coahuila', 'Region_Durango',\n",
    "                      'Region_Expos F', 'Region_Laredo', 'Region_Monterrey', 'Region_Online',\n",
    "                      'Region_Queretaro', 'Region_Reynosa', 'Region_San Luis', 'Fecha_encoded','Buen_Fin','Hot_Sale']]\n",
    "        y = df_final['Cantidad']\n",
    "\n",
    "        if len(X) > 10: #Se reduce la muestra de prodcutos, por los problemas que pueden presentar los productos con una cantidad baja de datos\n",
    "            X_train, X_test, y_train, y_test = train_test_split(X, y, test_size=0.2, random_state=42)\n",
    "            rf_regressor = RandomForestRegressor(n_estimators=35, random_state=42, max_depth=10, criterion='squared_error',\n",
    "                                                 max_features=None, bootstrap=True, min_samples_split=2, min_samples_leaf=1)\n",
    "            \n",
    "            rf_regressor.fit(X_train, y_train)\n",
    "            y_pred = rf_regressor.predict(X_test)\n",
    "            y_test=y_test+1\n",
    "            y_pred=y_pred+1\n",
    "            \n",
    "            mae = mean_absolute_error(y_test, y_pred)\n",
    "            mse = mean_squared_error(y_test, y_pred)\n",
    "            mape = np.mean(np.abs((y_test - y_pred) / (y_test))) * 100\n",
    "            \n",
    "            mae_list.append(mae)\n",
    "            mse_list.append(mse)\n",
    "            mape_list.append(mape)\n",
    "\n",
    "    if not mae_list:\n",
    "        return \"No se pudo realizar la evaluación con los productos disponibles.\"\n",
    "\n",
    "    mae_promedio = np.mean(mae_list)\n",
    "    mse_promedio = np.mean(mse_list)\n",
    "    mape_promedio = np.mean(mape_list)\n",
    "\n",
    "    return mae_promedio, mse_promedio, mape_promedio\n",
    "\n",
    "N = 272\n",
    "productos = [f'Producto {i}' for i in range(N)]\n",
    "mae_promedio, mse_promedio, mape_promedio = calculate_average_errors(df, productos, label_encoder)\n",
    "\n",
    "print(f\"MSE promedio: {mse_promedio:.2f}\")\n",
    "print(f\"MAE promedio: {mae_promedio:.2f}\")\n",
    "print(f\"MAPE promedio: {mape_promedio:.2f}%\")"
   ]
  },
  {
   "cell_type": "code",
   "execution_count": null,
   "id": "d2b53edd-901e-4905-ad69-65628fc54db0",
   "metadata": {},
   "outputs": [],
   "source": []
  }
 ],
 "metadata": {
  "kernelspec": {
   "display_name": "Python 3 (ipykernel)",
   "language": "python",
   "name": "python3"
  },
  "language_info": {
   "codemirror_mode": {
    "name": "ipython",
    "version": 3
   },
   "file_extension": ".py",
   "mimetype": "text/x-python",
   "name": "python",
   "nbconvert_exporter": "python",
   "pygments_lexer": "ipython3",
   "version": "3.11.5"
  }
 },
 "nbformat": 4,
 "nbformat_minor": 5
}
